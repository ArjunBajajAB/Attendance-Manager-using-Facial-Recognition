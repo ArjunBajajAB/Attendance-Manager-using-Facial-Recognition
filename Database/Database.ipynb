{
 "cells": [
  {
   "cell_type": "code",
   "execution_count": 2,
   "metadata": {},
   "outputs": [
    {
     "name": "stdout",
     "output_type": "stream",
     "text": [
      "Done\n"
     ]
    }
   ],
   "source": [
    "import mysql.connector\n",
    "print(\"Done\")"
   ]
  },
  {
   "cell_type": "code",
   "execution_count": 3,
   "metadata": {},
   "outputs": [
    {
     "name": "stdout",
     "output_type": "stream",
     "text": [
      "<mysql.connector.connection_cext.CMySQLConnection object at 0x7f76a80ae5e0>\n"
     ]
    }
   ],
   "source": [
    "db = mysql.connector.connect(\n",
    "host=\"localhost\",\n",
    "user=\"arjun\",\n",
    "password=\"wedding9711\")\n",
    "print(db)"
   ]
  },
  {
   "cell_type": "code",
   "execution_count": 4,
   "metadata": {},
   "outputs": [],
   "source": [
    "mycursor = db.cursor()\n",
    "\n"
   ]
  },
  {
   "cell_type": "code",
   "execution_count": 7,
   "metadata": {},
   "outputs": [],
   "source": [
    "mycursor.execute(\"CREATE DATABASE AttendanceManager\")"
   ]
  },
  {
   "cell_type": "code",
   "execution_count": 5,
   "metadata": {},
   "outputs": [
    {
     "name": "stdout",
     "output_type": "stream",
     "text": [
      "('AttendanceManager',)\n",
      "('information_schema',)\n",
      "('mysql',)\n",
      "('performance_schema',)\n",
      "('sys',)\n",
      "('tester',)\n"
     ]
    }
   ],
   "source": [
    "mycursor.execute(\"SHOW databases\")\n",
    "for i in mycursor:\n",
    "    print(i)"
   ]
  },
  {
   "cell_type": "code",
   "execution_count": 31,
   "metadata": {},
   "outputs": [
    {
     "name": "stdout",
     "output_type": "stream",
     "text": [
      "<mysql.connector.connection_cext.CMySQLConnection object at 0x7f84abef50a0>\n"
     ]
    }
   ],
   "source": [
    "mydb = mysql.connector.connect(\n",
    "  host=\"localhost\",\n",
    "  user=\"arjun\",\n",
    "  password=\"wedding9711\",\n",
    "  database=\"AttendanceManager\"\n",
    ") \n",
    "print(mydb)"
   ]
  },
  {
   "cell_type": "code",
   "execution_count": 32,
   "metadata": {},
   "outputs": [],
   "source": [
    "mycur = mydb.cursor()"
   ]
  },
  {
   "cell_type": "code",
   "execution_count": 11,
   "metadata": {},
   "outputs": [],
   "source": [
    "mycur.execute(\"CREATE TABLE Students (ID integer NOT NULL AUTO_INCREMENT,EnrollmentNumber BIGINT NOT NULL UNIQUE,Name VARCHAR(255),Course VARCHAR(255),Section VARCHAR(255),SubjectID VARCHAR(255),ImageEncoding BLOB NOT NULL,PRIMARY KEY(ID))\")"
   ]
  },
  {
   "cell_type": "code",
   "execution_count": 16,
   "metadata": {},
   "outputs": [],
   "source": [
    "mycur.execute(\"SHOW TABLES \")"
   ]
  },
  {
   "cell_type": "code",
   "execution_count": 13,
   "metadata": {},
   "outputs": [
    {
     "name": "stdout",
     "output_type": "stream",
     "text": [
      "('Students',)\n"
     ]
    }
   ],
   "source": [
    "for i in mycur:\n",
    "    print(i)"
   ]
  },
  {
   "cell_type": "code",
   "execution_count": 17,
   "metadata": {},
   "outputs": [
    {
     "name": "stdout",
     "output_type": "stream",
     "text": [
      "('Students',)\n"
     ]
    }
   ],
   "source": [
    "ab = list(mycur)\n",
    "type(ab)\n",
    "for i in ab:\n",
    "    print(i)"
   ]
  },
  {
   "cell_type": "code",
   "execution_count": 18,
   "metadata": {},
   "outputs": [],
   "source": [
    "mycur.execute(\"Describe Students\")"
   ]
  },
  {
   "cell_type": "code",
   "execution_count": 19,
   "metadata": {},
   "outputs": [],
   "source": [
    "result = mycur.fetchall()"
   ]
  },
  {
   "cell_type": "code",
   "execution_count": 20,
   "metadata": {},
   "outputs": [
    {
     "name": "stdout",
     "output_type": "stream",
     "text": [
      "('ID', b'int', 'NO', 'PRI', None, 'auto_increment')\n",
      "('EnrollmentNumber', b'bigint', 'NO', 'UNI', None, '')\n",
      "('Name', b'varchar(255)', 'YES', '', None, '')\n",
      "('Course', b'varchar(255)', 'YES', '', None, '')\n",
      "('Section', b'varchar(255)', 'YES', '', None, '')\n",
      "('SubjectID', b'varchar(255)', 'YES', '', None, '')\n",
      "('ImageEncoding', b'blob', 'NO', '', None, '')\n"
     ]
    }
   ],
   "source": [
    "for i in result:\n",
    "    print(i)"
   ]
  },
  {
   "cell_type": "code",
   "execution_count": 21,
   "metadata": {},
   "outputs": [],
   "source": [
    "SubjectsID = {    \n",
    "    1:[\"Maths_1\",\"TC\",\"ICIT\",\"Physics\",\"C\"],\n",
    "    2:[\"Maths_2\",\"POM\",\"DE\",\"DS\",\"DBMS\"],\n",
    "    3:[\"Maths_3\",\"CA\",\"FEDT\",\"POA\",\"CPP\"],\n",
    "    4:[\"Maths_4\",\"WT\",\"Java\",\"SE\",\"CN\"],\n",
    "    51:[\"CG\",\"Ecom\",\"OS\",\"BE\"],\n",
    "    52:[\"CG\",\"Ecom\",\"OS\",\"ST\"],\n",
    "    53:[\"CG\",\"Ecom\",\"OS\",\"PHP\"],\n",
    "    61:[\"DWH_DM\",\"MC\",\"Linux\",\"BI\"],\n",
    "    62:[\"DWH_DM\",\"MC\",\"Linux\",\"NS\"],\n",
    "    63:[\"DWH_DM\",\"MC\",\"Linux\",\"NP\"],\n",
    "    64:[\"DWH_DM\",\"MC\",\"Linux\",\"AI\"],\n",
    "    65:[\"DWH_DM\",\"MC\",\"Linux\",\"Multimedia\"]\n",
    "}"
   ]
  },
  {
   "cell_type": "code",
   "execution_count": 22,
   "metadata": {},
   "outputs": [],
   "source": [
    "Subjects = set()"
   ]
  },
  {
   "cell_type": "code",
   "execution_count": 23,
   "metadata": {},
   "outputs": [],
   "source": [
    "for subjectids in SubjectsID:\n",
    "    for subjects in SubjectsID[subjectids]:\n",
    "        Subjects.add(subjects)"
   ]
  },
  {
   "cell_type": "code",
   "execution_count": 32,
   "metadata": {},
   "outputs": [
    {
     "data": {
      "text/plain": [
       "{'AI',\n",
       " 'BE',\n",
       " 'BI',\n",
       " 'C',\n",
       " 'CA',\n",
       " 'CG',\n",
       " 'CN',\n",
       " 'CPP',\n",
       " 'DBMS',\n",
       " 'DE',\n",
       " 'DWH_DM',\n",
       " 'Ecom',\n",
       " 'FEDT',\n",
       " 'ICIT',\n",
       " 'Java',\n",
       " 'Linux',\n",
       " 'MC',\n",
       " 'Maths_1',\n",
       " 'Maths_2',\n",
       " 'Maths_4',\n",
       " 'Multimedia',\n",
       " 'NP',\n",
       " 'NS',\n",
       " 'OS',\n",
       " 'PHP',\n",
       " 'POA',\n",
       " 'POM',\n",
       " 'Physics',\n",
       " 'SE',\n",
       " 'ST',\n",
       " 'TC',\n",
       " 'WT'}"
      ]
     },
     "execution_count": 32,
     "metadata": {},
     "output_type": "execute_result"
    }
   ],
   "source": [
    "Subjects"
   ]
  },
  {
   "cell_type": "code",
   "execution_count": 33,
   "metadata": {},
   "outputs": [
    {
     "name": "stdout",
     "output_type": "stream",
     "text": [
      "Table Created\n",
      "Table Created\n",
      "Table Created\n",
      "Table Created\n",
      "Table Created\n",
      "Table Created\n",
      "Table Created\n",
      "Table Created\n",
      "Table Created\n",
      "Table Created\n",
      "Table Created\n",
      "Table Created\n",
      "Table Created\n",
      "Table Created\n",
      "Table Created\n",
      "Table Created\n",
      "Table Created\n",
      "Table Created\n",
      "Table Created\n",
      "Table Created\n",
      "Table Created\n",
      "Table Created\n",
      "Table Created\n",
      "Table Created\n",
      "Table Created\n",
      "Table Created\n",
      "Table Created\n",
      "Table Created\n",
      "Table Created\n",
      "Table Created\n",
      "Table Created\n",
      "Table Created\n"
     ]
    }
   ],
   "source": [
    "for i in Subjects:\n",
    "    sql = \"CREATE TABLE {} (Date DATE, PresentID VARCHAR(255),PRIMARY KEY (Date))\".format(i)\n",
    "    mycur.execute(sql)\n",
    "    print(\"Table Created\")"
   ]
  },
  {
   "cell_type": "code",
   "execution_count": 34,
   "metadata": {},
   "outputs": [],
   "source": [
    "mycur.execute(\"Show tables\")"
   ]
  },
  {
   "cell_type": "code",
   "execution_count": 35,
   "metadata": {},
   "outputs": [
    {
     "name": "stdout",
     "output_type": "stream",
     "text": [
      "('AI',) 1\n",
      "('BE',) 2\n",
      "('BI',) 3\n",
      "('C',) 4\n",
      "('CA',) 5\n",
      "('CG',) 6\n",
      "('CN',) 7\n",
      "('CPP',) 8\n",
      "('DBMS',) 9\n",
      "('DE',) 10\n",
      "('DS',) 11\n",
      "('DWH_DM',) 12\n",
      "('Ecom',) 13\n",
      "('FEDT',) 14\n",
      "('ICIT',) 15\n",
      "('Java',) 16\n",
      "('Linux',) 17\n",
      "('MC',) 18\n",
      "('Maths_1',) 19\n",
      "('Maths_2',) 20\n",
      "('Maths_3',) 21\n",
      "('Maths_4',) 22\n",
      "('Multimedia',) 23\n",
      "('NP',) 24\n",
      "('NS',) 25\n",
      "('OS',) 26\n",
      "('PHP',) 27\n",
      "('POA',) 28\n",
      "('POM',) 29\n",
      "('Physics',) 30\n",
      "('SE',) 31\n",
      "('ST',) 32\n",
      "('Students',) 33\n",
      "('TC',) 34\n",
      "('WT',) 35\n"
     ]
    }
   ],
   "source": [
    "c=0\n",
    "for i in mycur:\n",
    "    c+=1\n",
    "    print(i,c)"
   ]
  },
  {
   "cell_type": "code",
   "execution_count": 36,
   "metadata": {},
   "outputs": [],
   "source": [
    "mycur.execute(\"Describe Students\")"
   ]
  },
  {
   "cell_type": "code",
   "execution_count": 37,
   "metadata": {},
   "outputs": [],
   "source": [
    "res = mycur.fetchall()\n"
   ]
  },
  {
   "cell_type": "code",
   "execution_count": 38,
   "metadata": {},
   "outputs": [
    {
     "name": "stdout",
     "output_type": "stream",
     "text": [
      "('ID', b'int', 'NO', 'PRI', None, 'auto_increment')\n",
      "('EnrollmentNumber', b'bigint', 'NO', 'UNI', None, '')\n",
      "('Name', b'varchar(255)', 'YES', '', None, '')\n",
      "('Course', b'varchar(255)', 'YES', '', None, '')\n",
      "('Section', b'varchar(255)', 'YES', '', None, '')\n",
      "('SubjectID', b'varchar(255)', 'YES', '', None, '')\n",
      "('ImageEncoding', b'blob', 'NO', '', None, '')\n"
     ]
    }
   ],
   "source": [
    "for i in res:\n",
    "    print(i)"
   ]
  },
  {
   "cell_type": "code",
   "execution_count": 46,
   "metadata": {},
   "outputs": [],
   "source": [
    "mycur.execute(\"Select * from Students\")"
   ]
  },
  {
   "cell_type": "code",
   "execution_count": 47,
   "metadata": {},
   "outputs": [
    {
     "name": "stdout",
     "output_type": "stream",
     "text": [
      "(1, 1514902018, 'Arjun Bajaj', 'BCA', 'A', '53', b'\\xcbsr=N\\x91\\x04>a\\xbe\\xf1\\xbb\\xb7\\xed7<:\\xc3\\xa7=\"Q%>\\xe2k\\x8b<r\\xe2\\xb7\\xbd?0\\xd1\\xbc\\x96\\xd6k\\xbb\\x08/\\xd8<\\x17\\xd6\\x00=S\\xae\\xa0=\\xc4\\xe26\\xbc\\xd3(\\x13>\\xbc\\x13A\\xbc\\x83<\\x87\\xbc\\x04b\\xc4\\xbd\\xf4\\xc6\\xab\\xbdGy\\x1d>\\xbb)\\x1e\\xbd\\xb0\\x14H\\xbc]\\x891=\\x1a&\\xd5=\\xc8\\xe0\\xcd<\\x90d\\xb1\\xbd`9\\xf0\\xbdZ-\\x9a\\xbdi#\\xa2<C\\xd1\\x8f=C\\x90x=\\xe4\\xae\\x0c>\\x8bw-\\xbc\\xbe3\\xf9=\\x1c|\\x14\\xbd\\x0b\\xbb\\x03>\\x95\\xed\\xa1=r\\x7fh=M\\xb1#<F+G\\xbc\\xf8\\xa2H=\\xc4=\\xf9\\xbd\\x07\\xb8\\xaf\\xbc$\\x03$\\xbe\\x86*\\x98\\xbd\\xac\\x12\\xc9=2\\x83\\xc8=\\x1a@\\xa4=\\xdcT\\x0b\\xbem\\x15\\xb9=\\xe0\\xcfc\\xbdK\\xbd\\x1c\\xbc\\x9d5\\x19=sA\\xd2\\xbb0\\xee\\x97=\\xdf\\xfd\\xc5<E\\x9e\\x07\\xbe\\x97\\xdb\\xb3=\\xa2%\\xdb\\xbd\\xd2S\\xd4:\\x983!\\xbe\\xdb\\x15\\xbf=\\xd6\\x06\\xb9=A\\x0b\\x89\\xbe\\x9f\\xf9V=\\xfc\\x15&>\\\\\\xfe\\x00=\\xe3\\xda\\xa0=\\x8bP]\\xbe\\xac\\xbf\\xcb\\xbcB\\xff0\\xbc[\\xd2\\x94=\\xc8W\\xe5\\xbd\\x8a\\x8fy=N\\x86\\x12>+f\\x81=\\x0c\"\\x8c=\\x9b\\x82b\\xbdR\\xb6\\xa6=[\\x10\\xa9=\\x94\\xa6x<\\xae\\r\\xef:\\xbe\\r\\xa9\\xbd\\xf7)/\\xbd\\xcd\\xf6\\xb6\\xbbX+R=\\xfa\\xef0\\xbd\\x1f_\\xb5\\xbctb\\xe4\\xbbf{\">\\xe4\\xe3\\x03>1\\xe3\\x13\\xbe:\\xd6!=\\xb0L >~/\\xa5\\xbd3\\xec\\xe7\\xbb\\x15R$\\xbd\\xe2\\x16L\\xbdQ&\\xab=\\xc8\\x06<\\xbd\\xe3C\\xe8<q\\x80\\xa1\\xbd\\x7f\"\\x02\\xbeM\\xfa\\x17=\\xb5\\xed\\x0e\\xbeU\\xd06>G\\xb7\\x96\\xbd\\x8a\\xeaM<_F\\xa5\\xbb/\\xa8\\x81<\\xe5\\xb8\\xe9<\\x94\\'\\x1d>\\xec\\x0f\\x97:\\xc3-\\xc799\\x1dN<\\t\\xdb\\\\\\xbb\\x1eT\\x0e\\xbe\\xbfE\\xe9<\\xcc\\xdd\\xbd;=\\x05A>\\xe6\\xa5\\x93=\\xb8\\x07\\xbc\\xbcq\\x8d4=\\x9e\\x85\\x17>\\xb1\\x91B:\\x10\\xaa\\xd9=v\\x97\\x17=\\ng\\x06\\xbe')\n"
     ]
    }
   ],
   "source": [
    "for i in mycur:\n",
    "    print(i)"
   ]
  },
  {
   "cell_type": "code",
   "execution_count": 45,
   "metadata": {},
   "outputs": [
    {
     "name": "stdout",
     "output_type": "stream",
     "text": [
      "('BCA',)\n"
     ]
    }
   ],
   "source": [
    "mycur.execute(\"Select Course from Students where EnrollmentNumber=1514902018\")\n",
    "for i in mycur:\n",
    "    print(i)"
   ]
  },
  {
   "cell_type": "code",
   "execution_count": 48,
   "metadata": {},
   "outputs": [
    {
     "name": "stdout",
     "output_type": "stream",
     "text": [
      "('Date', b'date', 'NO', 'PRI', None, '')\n",
      "('PresentID', b'varchar(255)', 'YES', '', None, '')\n"
     ]
    }
   ],
   "source": [
    "mycur.execute(\"Describe AI\")\n",
    "for i in mycur:\n",
    "    print(i)"
   ]
  },
  {
   "cell_type": "markdown",
   "metadata": {},
   "source": [
    "# Just for testing purposes, all changes are reset to NULL"
   ]
  },
  {
   "cell_type": "code",
   "execution_count": 175,
   "metadata": {},
   "outputs": [],
   "source": [
    "mycur.execute(\"Insert into AI (Date,PresentID) VALUES (%s,%s)\",(\"2020-11-21\",\"1,2,3,4\"))"
   ]
  },
  {
   "cell_type": "code",
   "execution_count": 176,
   "metadata": {},
   "outputs": [],
   "source": [
    "mydb.commit()"
   ]
  },
  {
   "cell_type": "code",
   "execution_count": 188,
   "metadata": {},
   "outputs": [],
   "source": [
    "mycur.execute(\"Select * from AI where PresentID LIKE '%3%'\")"
   ]
  },
  {
   "cell_type": "code",
   "execution_count": 189,
   "metadata": {},
   "outputs": [],
   "source": [
    "abw=list(mycur.fetchall())"
   ]
  },
  {
   "cell_type": "code",
   "execution_count": 197,
   "metadata": {},
   "outputs": [
    {
     "data": {
      "text/plain": [
       "'2020-11-21'"
      ]
     },
     "execution_count": 197,
     "metadata": {},
     "output_type": "execute_result"
    }
   ],
   "source": [
    "str(abw[0][0])"
   ]
  },
  {
   "cell_type": "code",
   "execution_count": 4,
   "metadata": {},
   "outputs": [],
   "source": [
    "mycur.execute(\"Alter table Students ADD ImageEncoding BLOB NOT NULL\")"
   ]
  },
  {
   "cell_type": "code",
   "execution_count": 5,
   "metadata": {},
   "outputs": [
    {
     "name": "stdout",
     "output_type": "stream",
     "text": [
      "('ID', b'int', 'NO', 'PRI', None, '')\n",
      "('EnrollmentNumber', b'bigint', 'NO', 'UNI', None, '')\n",
      "('Name', b'varchar(255)', 'YES', '', None, '')\n",
      "('Course', b'varchar(255)', 'YES', '', None, '')\n",
      "('Section', b'varchar(255)', 'YES', '', None, '')\n",
      "('SubjectID', b'varchar(255)', 'YES', '', None, '')\n",
      "('ImageEncoding', b'blob', 'NO', '', None, '')\n"
     ]
    }
   ],
   "source": [
    "mycur.execute(\"Describe Students\")\n",
    "for i in mycur:\n",
    "    print(i)"
   ]
  },
  {
   "cell_type": "code",
   "execution_count": 15,
   "metadata": {},
   "outputs": [
    {
     "name": "stdout",
     "output_type": "stream",
     "text": [
      "(1, 1514902018, 'Arjun Bajaj', 'BCA', 'A', '53', b'\\xcbsr=N\\x91\\x04>a\\xbe\\xf1\\xbb\\xb7\\xed7<:\\xc3\\xa7=\"Q%>\\xe2k\\x8b<r\\xe2\\xb7\\xbd?0\\xd1\\xbc\\x96\\xd6k\\xbb\\x08/\\xd8<\\x17\\xd6\\x00=S\\xae\\xa0=\\xc4\\xe26\\xbc\\xd3(\\x13>\\xbc\\x13A\\xbc\\x83<\\x87\\xbc\\x04b\\xc4\\xbd\\xf4\\xc6\\xab\\xbdGy\\x1d>\\xbb)\\x1e\\xbd\\xb0\\x14H\\xbc]\\x891=\\x1a&\\xd5=\\xc8\\xe0\\xcd<\\x90d\\xb1\\xbd`9\\xf0\\xbdZ-\\x9a\\xbdi#\\xa2<C\\xd1\\x8f=C\\x90x=\\xe4\\xae\\x0c>\\x8bw-\\xbc\\xbe3\\xf9=\\x1c|\\x14\\xbd\\x0b\\xbb\\x03>\\x95\\xed\\xa1=r\\x7fh=M\\xb1#<F+G\\xbc\\xf8\\xa2H=\\xc4=\\xf9\\xbd\\x07\\xb8\\xaf\\xbc$\\x03$\\xbe\\x86*\\x98\\xbd\\xac\\x12\\xc9=2\\x83\\xc8=\\x1a@\\xa4=\\xdcT\\x0b\\xbem\\x15\\xb9=\\xe0\\xcfc\\xbdK\\xbd\\x1c\\xbc\\x9d5\\x19=sA\\xd2\\xbb0\\xee\\x97=\\xdf\\xfd\\xc5<E\\x9e\\x07\\xbe\\x97\\xdb\\xb3=\\xa2%\\xdb\\xbd\\xd2S\\xd4:\\x983!\\xbe\\xdb\\x15\\xbf=\\xd6\\x06\\xb9=A\\x0b\\x89\\xbe\\x9f\\xf9V=\\xfc\\x15&>\\\\\\xfe\\x00=\\xe3\\xda\\xa0=\\x8bP]\\xbe\\xac\\xbf\\xcb\\xbcB\\xff0\\xbc[\\xd2\\x94=\\xc8W\\xe5\\xbd\\x8a\\x8fy=N\\x86\\x12>+f\\x81=\\x0c\"\\x8c=\\x9b\\x82b\\xbdR\\xb6\\xa6=[\\x10\\xa9=\\x94\\xa6x<\\xae\\r\\xef:\\xbe\\r\\xa9\\xbd\\xf7)/\\xbd\\xcd\\xf6\\xb6\\xbbX+R=\\xfa\\xef0\\xbd\\x1f_\\xb5\\xbctb\\xe4\\xbbf{\">\\xe4\\xe3\\x03>1\\xe3\\x13\\xbe:\\xd6!=\\xb0L >~/\\xa5\\xbd3\\xec\\xe7\\xbb\\x15R$\\xbd\\xe2\\x16L\\xbdQ&\\xab=\\xc8\\x06<\\xbd\\xe3C\\xe8<q\\x80\\xa1\\xbd\\x7f\"\\x02\\xbeM\\xfa\\x17=\\xb5\\xed\\x0e\\xbeU\\xd06>G\\xb7\\x96\\xbd\\x8a\\xeaM<_F\\xa5\\xbb/\\xa8\\x81<\\xe5\\xb8\\xe9<\\x94\\'\\x1d>\\xec\\x0f\\x97:\\xc3-\\xc799\\x1dN<\\t\\xdb\\\\\\xbb\\x1eT\\x0e\\xbe\\xbfE\\xe9<\\xcc\\xdd\\xbd;=\\x05A>\\xe6\\xa5\\x93=\\xb8\\x07\\xbc\\xbcq\\x8d4=\\x9e\\x85\\x17>\\xb1\\x91B:\\x10\\xaa\\xd9=v\\x97\\x17=\\ng\\x06\\xbe')\n"
     ]
    }
   ],
   "source": [
    "mycur.execute(\"Select * from Students\")\n",
    "for i in mycur:\n",
    "    print(i)"
   ]
  },
  {
   "cell_type": "code",
   "execution_count": 29,
   "metadata": {},
   "outputs": [
    {
     "ename": "ProgrammingError",
     "evalue": "1146 (42S02): Table 'AttendanceManager.AI' doesn't exist",
     "output_type": "error",
     "traceback": [
      "\u001b[0;31m---------------------------------------------------------------------------\u001b[0m",
      "\u001b[0;31mMySQLInterfaceError\u001b[0m                       Traceback (most recent call last)",
      "\u001b[0;32m~/.local/lib/python3.8/site-packages/mysql/connector/connection_cext.py\u001b[0m in \u001b[0;36mcmd_query\u001b[0;34m(self, query, raw, buffered, raw_as_string)\u001b[0m\n\u001b[1;32m    503\u001b[0m                 \u001b[0mquery\u001b[0m \u001b[0;34m=\u001b[0m \u001b[0mquery\u001b[0m\u001b[0;34m.\u001b[0m\u001b[0mencode\u001b[0m\u001b[0;34m(\u001b[0m\u001b[0;34m'utf-8'\u001b[0m\u001b[0;34m)\u001b[0m\u001b[0;34m\u001b[0m\u001b[0;34m\u001b[0m\u001b[0m\n\u001b[0;32m--> 504\u001b[0;31m             self._cmysql.query(query,\n\u001b[0m\u001b[1;32m    505\u001b[0m                                \u001b[0mraw\u001b[0m\u001b[0;34m=\u001b[0m\u001b[0mraw\u001b[0m\u001b[0;34m,\u001b[0m \u001b[0mbuffered\u001b[0m\u001b[0;34m=\u001b[0m\u001b[0mbuffered\u001b[0m\u001b[0;34m,\u001b[0m\u001b[0;34m\u001b[0m\u001b[0;34m\u001b[0m\u001b[0m\n",
      "\u001b[0;31mMySQLInterfaceError\u001b[0m: Table 'AttendanceManager.AI' doesn't exist",
      "\nDuring handling of the above exception, another exception occurred:\n",
      "\u001b[0;31mProgrammingError\u001b[0m                          Traceback (most recent call last)",
      "\u001b[0;32m<ipython-input-29-5841f175760b>\u001b[0m in \u001b[0;36m<module>\u001b[0;34m\u001b[0m\n\u001b[0;32m----> 1\u001b[0;31m \u001b[0mmycur\u001b[0m\u001b[0;34m.\u001b[0m\u001b[0mexecute\u001b[0m\u001b[0;34m(\u001b[0m\u001b[0;34m\"Describe AI\"\u001b[0m\u001b[0;34m)\u001b[0m\u001b[0;34m\u001b[0m\u001b[0;34m\u001b[0m\u001b[0m\n\u001b[0m\u001b[1;32m      2\u001b[0m \u001b[0;32mfor\u001b[0m \u001b[0mi\u001b[0m \u001b[0;32min\u001b[0m \u001b[0mmycur\u001b[0m\u001b[0;34m:\u001b[0m\u001b[0;34m\u001b[0m\u001b[0;34m\u001b[0m\u001b[0m\n\u001b[1;32m      3\u001b[0m     \u001b[0mprint\u001b[0m\u001b[0;34m(\u001b[0m\u001b[0mi\u001b[0m\u001b[0;34m)\u001b[0m\u001b[0;34m\u001b[0m\u001b[0;34m\u001b[0m\u001b[0m\n",
      "\u001b[0;32m~/.local/lib/python3.8/site-packages/mysql/connector/cursor_cext.py\u001b[0m in \u001b[0;36mexecute\u001b[0;34m(self, operation, params, multi)\u001b[0m\n\u001b[1;32m    262\u001b[0m \u001b[0;34m\u001b[0m\u001b[0m\n\u001b[1;32m    263\u001b[0m         \u001b[0;32mtry\u001b[0m\u001b[0;34m:\u001b[0m\u001b[0;34m\u001b[0m\u001b[0;34m\u001b[0m\u001b[0m\n\u001b[0;32m--> 264\u001b[0;31m             result = self._cnx.cmd_query(stmt, raw=self._raw,\n\u001b[0m\u001b[1;32m    265\u001b[0m                                          \u001b[0mbuffered\u001b[0m\u001b[0;34m=\u001b[0m\u001b[0mself\u001b[0m\u001b[0;34m.\u001b[0m\u001b[0m_buffered\u001b[0m\u001b[0;34m,\u001b[0m\u001b[0;34m\u001b[0m\u001b[0;34m\u001b[0m\u001b[0m\n\u001b[1;32m    266\u001b[0m                                          raw_as_string=self._raw_as_string)\n",
      "\u001b[0;32m~/.local/lib/python3.8/site-packages/mysql/connector/connection_cext.py\u001b[0m in \u001b[0;36mcmd_query\u001b[0;34m(self, query, raw, buffered, raw_as_string)\u001b[0m\n\u001b[1;32m    506\u001b[0m                                raw_as_string=raw_as_string)\n\u001b[1;32m    507\u001b[0m         \u001b[0;32mexcept\u001b[0m \u001b[0mMySQLInterfaceError\u001b[0m \u001b[0;32mas\u001b[0m \u001b[0mexc\u001b[0m\u001b[0;34m:\u001b[0m\u001b[0;34m\u001b[0m\u001b[0;34m\u001b[0m\u001b[0m\n\u001b[0;32m--> 508\u001b[0;31m             raise errors.get_mysql_exception(exc.errno, msg=exc.msg,\n\u001b[0m\u001b[1;32m    509\u001b[0m                                              sqlstate=exc.sqlstate)\n\u001b[1;32m    510\u001b[0m         \u001b[0;32mexcept\u001b[0m \u001b[0mAttributeError\u001b[0m\u001b[0;34m:\u001b[0m\u001b[0;34m\u001b[0m\u001b[0;34m\u001b[0m\u001b[0m\n",
      "\u001b[0;31mProgrammingError\u001b[0m: 1146 (42S02): Table 'AttendanceManager.AI' doesn't exist"
     ]
    }
   ],
   "source": [
    "mycur.execute(\"\")"
   ]
  },
  {
   "cell_type": "code",
   "execution_count": 49,
   "metadata": {},
   "outputs": [
    {
     "name": "stdout",
     "output_type": "stream",
     "text": [
      "('AI',)\n",
      "('BE',)\n",
      "('BI',)\n",
      "('C',)\n",
      "('CA',)\n",
      "('CG',)\n",
      "('CN',)\n",
      "('CPP',)\n",
      "('DBMS',)\n",
      "('DE',)\n",
      "('DS',)\n",
      "('DWH_DM',)\n",
      "('Ecom',)\n",
      "('FEDT',)\n",
      "('ICIT',)\n",
      "('Java',)\n",
      "('Linux',)\n",
      "('MC',)\n",
      "('Maths_1',)\n",
      "('Maths_2',)\n",
      "('Maths_3',)\n",
      "('Maths_4',)\n",
      "('Multimedia',)\n",
      "('NP',)\n",
      "('NS',)\n",
      "('OS',)\n",
      "('PHP',)\n",
      "('POA',)\n",
      "('POM',)\n",
      "('Physics',)\n",
      "('SE',)\n",
      "('ST',)\n",
      "('Students',)\n",
      "('TC',)\n",
      "('WT',)\n"
     ]
    }
   ],
   "source": [
    "mycur.execute(\"Show tables\")\n",
    "for i in mycur:\n",
    "    print(i)"
   ]
  },
  {
   "cell_type": "code",
   "execution_count": 34,
   "metadata": {},
   "outputs": [
    {
     "name": "stdout",
     "output_type": "stream",
     "text": [
      "<mysql.connector.connection_cext.CMySQLConnection object at 0x7f84abed2df0>\n"
     ]
    }
   ],
   "source": [
    "mydb = mysql.connector.connect(\n",
    "  host=\"localhost\",\n",
    "  user=\"arjun\",\n",
    "  password=\"wedding9711\",\n",
    "  database=\"attendancetest\"\n",
    ") \n",
    "print(mydb)"
   ]
  },
  {
   "cell_type": "code",
   "execution_count": 35,
   "metadata": {},
   "outputs": [],
   "source": [
    "mycur = mydb.cursor()"
   ]
  },
  {
   "cell_type": "code",
   "execution_count": 18,
   "metadata": {},
   "outputs": [],
   "source": [
    "mycur.execute(\"Show tables\")\n",
    "for i in mycur:\n",
    "    #print(i)\n",
    "    pass"
   ]
  },
  {
   "cell_type": "code",
   "execution_count": 36,
   "metadata": {},
   "outputs": [],
   "source": [
    "mycur.execute(\"select * from Students\")"
   ]
  },
  {
   "cell_type": "code",
   "execution_count": 37,
   "metadata": {},
   "outputs": [
    {
     "name": "stdout",
     "output_type": "stream",
     "text": [
      "(1, 1514902018, 'Arjun Bajaj', 'BCA', 'A', '53', b'\\xcbsr=N\\x91\\x04>a\\xbe\\xf1\\xbb\\xb7\\xed7<:\\xc3\\xa7=\"Q%>\\xe2k\\x8b<r\\xe2\\xb7\\xbd?0\\xd1\\xbc\\x96\\xd6k\\xbb\\x08/\\xd8<\\x17\\xd6\\x00=S\\xae\\xa0=\\xc4\\xe26\\xbc\\xd3(\\x13>\\xbc\\x13A\\xbc\\x83<\\x87\\xbc\\x04b\\xc4\\xbd\\xf4\\xc6\\xab\\xbdGy\\x1d>\\xbb)\\x1e\\xbd\\xb0\\x14H\\xbc]\\x891=\\x1a&\\xd5=\\xc8\\xe0\\xcd<\\x90d\\xb1\\xbd`9\\xf0\\xbdZ-\\x9a\\xbdi#\\xa2<C\\xd1\\x8f=C\\x90x=\\xe4\\xae\\x0c>\\x8bw-\\xbc\\xbe3\\xf9=\\x1c|\\x14\\xbd\\x0b\\xbb\\x03>\\x95\\xed\\xa1=r\\x7fh=M\\xb1#<F+G\\xbc\\xf8\\xa2H=\\xc4=\\xf9\\xbd\\x07\\xb8\\xaf\\xbc$\\x03$\\xbe\\x86*\\x98\\xbd\\xac\\x12\\xc9=2\\x83\\xc8=\\x1a@\\xa4=\\xdcT\\x0b\\xbem\\x15\\xb9=\\xe0\\xcfc\\xbdK\\xbd\\x1c\\xbc\\x9d5\\x19=sA\\xd2\\xbb0\\xee\\x97=\\xdf\\xfd\\xc5<E\\x9e\\x07\\xbe\\x97\\xdb\\xb3=\\xa2%\\xdb\\xbd\\xd2S\\xd4:\\x983!\\xbe\\xdb\\x15\\xbf=\\xd6\\x06\\xb9=A\\x0b\\x89\\xbe\\x9f\\xf9V=\\xfc\\x15&>\\\\\\xfe\\x00=\\xe3\\xda\\xa0=\\x8bP]\\xbe\\xac\\xbf\\xcb\\xbcB\\xff0\\xbc[\\xd2\\x94=\\xc8W\\xe5\\xbd\\x8a\\x8fy=N\\x86\\x12>+f\\x81=\\x0c\"\\x8c=\\x9b\\x82b\\xbdR\\xb6\\xa6=[\\x10\\xa9=\\x94\\xa6x<\\xae\\r\\xef:\\xbe\\r\\xa9\\xbd\\xf7)/\\xbd\\xcd\\xf6\\xb6\\xbbX+R=\\xfa\\xef0\\xbd\\x1f_\\xb5\\xbctb\\xe4\\xbbf{\">\\xe4\\xe3\\x03>1\\xe3\\x13\\xbe:\\xd6!=\\xb0L >~/\\xa5\\xbd3\\xec\\xe7\\xbb\\x15R$\\xbd\\xe2\\x16L\\xbdQ&\\xab=\\xc8\\x06<\\xbd\\xe3C\\xe8<q\\x80\\xa1\\xbd\\x7f\"\\x02\\xbeM\\xfa\\x17=\\xb5\\xed\\x0e\\xbeU\\xd06>G\\xb7\\x96\\xbd\\x8a\\xeaM<_F\\xa5\\xbb/\\xa8\\x81<\\xe5\\xb8\\xe9<\\x94\\'\\x1d>\\xec\\x0f\\x97:\\xc3-\\xc799\\x1dN<\\t\\xdb\\\\\\xbb\\x1eT\\x0e\\xbe\\xbfE\\xe9<\\xcc\\xdd\\xbd;=\\x05A>\\xe6\\xa5\\x93=\\xb8\\x07\\xbc\\xbcq\\x8d4=\\x9e\\x85\\x17>\\xb1\\x91B:\\x10\\xaa\\xd9=v\\x97\\x17=\\ng\\x06\\xbe')\n"
     ]
    }
   ],
   "source": [
    "for i in mycur:\n",
    "    print(i)"
   ]
  },
  {
   "cell_type": "code",
   "execution_count": 119,
   "metadata": {},
   "outputs": [
    {
     "data": {
      "text/plain": [
       "'1514902018'"
      ]
     },
     "execution_count": 119,
     "metadata": {},
     "output_type": "execute_result"
    }
   ],
   "source": [
    "roll = \"01514902018\"\n",
    "if roll.startswith(\"0\"):\n",
    "    roll = roll[1:]\n",
    "roll"
   ]
  },
  {
   "cell_type": "code",
   "execution_count": 29,
   "metadata": {},
   "outputs": [],
   "source": [
    "#using AttendanceManager\n",
    "sql=\"Insert into Students (EnrollmentNumber,Name,Course,Section,SubjectID,ImageEncoding) VALUES (%s,%s,%s,%s,%s,%s)\"\n",
    "val = (1114902018,'Anirudh','BCA','A','53','NoneN')\n",
    "mycur.execute(sql,val)\n",
    "mydb.commit()"
   ]
  },
  {
   "cell_type": "code",
   "execution_count": 33,
   "metadata": {},
   "outputs": [
    {
     "name": "stdout",
     "output_type": "stream",
     "text": [
      "(1, 1514902018, 'Arjun Bajaj', 'BCA', 'A', '53', b'\\xcbsr=N\\x91\\x04>a\\xbe\\xf1\\xbb\\xb7\\xed7<:\\xc3\\xa7=\"Q%>\\xe2k\\x8b<r\\xe2\\xb7\\xbd?0\\xd1\\xbc\\x96\\xd6k\\xbb\\x08/\\xd8<\\x17\\xd6\\x00=S\\xae\\xa0=\\xc4\\xe26\\xbc\\xd3(\\x13>\\xbc\\x13A\\xbc\\x83<\\x87\\xbc\\x04b\\xc4\\xbd\\xf4\\xc6\\xab\\xbdGy\\x1d>\\xbb)\\x1e\\xbd\\xb0\\x14H\\xbc]\\x891=\\x1a&\\xd5=\\xc8\\xe0\\xcd<\\x90d\\xb1\\xbd`9\\xf0\\xbdZ-\\x9a\\xbdi#\\xa2<C\\xd1\\x8f=C\\x90x=\\xe4\\xae\\x0c>\\x8bw-\\xbc\\xbe3\\xf9=\\x1c|\\x14\\xbd\\x0b\\xbb\\x03>\\x95\\xed\\xa1=r\\x7fh=M\\xb1#<F+G\\xbc\\xf8\\xa2H=\\xc4=\\xf9\\xbd\\x07\\xb8\\xaf\\xbc$\\x03$\\xbe\\x86*\\x98\\xbd\\xac\\x12\\xc9=2\\x83\\xc8=\\x1a@\\xa4=\\xdcT\\x0b\\xbem\\x15\\xb9=\\xe0\\xcfc\\xbdK\\xbd\\x1c\\xbc\\x9d5\\x19=sA\\xd2\\xbb0\\xee\\x97=\\xdf\\xfd\\xc5<E\\x9e\\x07\\xbe\\x97\\xdb\\xb3=\\xa2%\\xdb\\xbd\\xd2S\\xd4:\\x983!\\xbe\\xdb\\x15\\xbf=\\xd6\\x06\\xb9=A\\x0b\\x89\\xbe\\x9f\\xf9V=\\xfc\\x15&>\\\\\\xfe\\x00=\\xe3\\xda\\xa0=\\x8bP]\\xbe\\xac\\xbf\\xcb\\xbcB\\xff0\\xbc[\\xd2\\x94=\\xc8W\\xe5\\xbd\\x8a\\x8fy=N\\x86\\x12>+f\\x81=\\x0c\"\\x8c=\\x9b\\x82b\\xbdR\\xb6\\xa6=[\\x10\\xa9=\\x94\\xa6x<\\xae\\r\\xef:\\xbe\\r\\xa9\\xbd\\xf7)/\\xbd\\xcd\\xf6\\xb6\\xbbX+R=\\xfa\\xef0\\xbd\\x1f_\\xb5\\xbctb\\xe4\\xbbf{\">\\xe4\\xe3\\x03>1\\xe3\\x13\\xbe:\\xd6!=\\xb0L >~/\\xa5\\xbd3\\xec\\xe7\\xbb\\x15R$\\xbd\\xe2\\x16L\\xbdQ&\\xab=\\xc8\\x06<\\xbd\\xe3C\\xe8<q\\x80\\xa1\\xbd\\x7f\"\\x02\\xbeM\\xfa\\x17=\\xb5\\xed\\x0e\\xbeU\\xd06>G\\xb7\\x96\\xbd\\x8a\\xeaM<_F\\xa5\\xbb/\\xa8\\x81<\\xe5\\xb8\\xe9<\\x94\\'\\x1d>\\xec\\x0f\\x97:\\xc3-\\xc799\\x1dN<\\t\\xdb\\\\\\xbb\\x1eT\\x0e\\xbe\\xbfE\\xe9<\\xcc\\xdd\\xbd;=\\x05A>\\xe6\\xa5\\x93=\\xb8\\x07\\xbc\\xbcq\\x8d4=\\x9e\\x85\\x17>\\xb1\\x91B:\\x10\\xaa\\xd9=v\\x97\\x17=\\ng\\x06\\xbe')\n",
      "(4, 1114902018, 'Anirudh', 'BCA', 'A', '53', b'NoneN')\n"
     ]
    }
   ],
   "source": [
    "mycur.execute(\"Select * from Students\")\n",
    "for i in mycur:\n",
    "    print(i)"
   ]
  },
  {
   "cell_type": "code",
   "execution_count": null,
   "metadata": {},
   "outputs": [],
   "source": []
  }
 ],
 "metadata": {
  "kernelspec": {
   "display_name": "Python 3",
   "language": "python",
   "name": "python3"
  },
  "language_info": {
   "codemirror_mode": {
    "name": "ipython",
    "version": 3
   },
   "file_extension": ".py",
   "mimetype": "text/x-python",
   "name": "python",
   "nbconvert_exporter": "python",
   "pygments_lexer": "ipython3",
   "version": "3.8.5"
  }
 },
 "nbformat": 4,
 "nbformat_minor": 4
}
